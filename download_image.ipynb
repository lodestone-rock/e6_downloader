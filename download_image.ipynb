{
 "cells": [
  {
   "cell_type": "code",
   "execution_count": null,
   "id": "99b102a5",
   "metadata": {},
   "outputs": [],
   "source": [
    "from download import *\n",
    "\n",
    "import pandas as pd\n",
    "\n"
   ]
  },
  {
   "cell_type": "code",
   "execution_count": null,
   "id": "7e87e47a",
   "metadata": {},
   "outputs": [],
   "source": [
    "# read real db export and training data\n",
    "\n",
    "training_data = pd.read_csv(\"posts.csv\")\n",
    "e6_dump_data = pd.read_csv(\"posts-2023-04-08.csv\")"
   ]
  },
  {
   "cell_type": "code",
   "execution_count": null,
   "id": "d65c0d3c",
   "metadata": {},
   "outputs": [],
   "source": [
    "# inner join\n",
    "subset_e6_dump_data = e6_dump_data[e6_dump_data[\"md5\"].isin(training_data[\"md5\"].tolist())]"
   ]
  },
  {
   "cell_type": "code",
   "execution_count": null,
   "id": "d288f668",
   "metadata": {
    "scrolled": true
   },
   "outputs": [],
   "source": [
    "# static e6 url\n",
    "# file_ext\n",
    "# md5\n",
    "file_ext = \"jpg\"\n",
    "md5 = \"1234567890\"\n",
    "f'https://static1.e621.net/data/{md5[0:2]}/{md5[2:4]}/{md5}.{file_ext}'"
   ]
  },
  {
   "cell_type": "code",
   "execution_count": null,
   "id": "2f72afe4",
   "metadata": {},
   "outputs": [],
   "source": [
    "subset_e6_dump_data.columns"
   ]
  },
  {
   "cell_type": "code",
   "execution_count": null,
   "id": "1665d28a",
   "metadata": {},
   "outputs": [],
   "source": [
    "# test retrieving image \n",
    "import os\n",
    "\n",
    "\n",
    "dataset = subset_e6_dump_data.sample(10, random_state = 1)\n",
    "\n",
    "def download(dataset:pd.DataFrame, save_path:str):\n",
    "    \n",
    "    \n",
    "    for index, sample in dataset.iterrows():\n",
    "        \n",
    "        print(index)\n",
    "        \n",
    "        attempt = 0\n",
    "        while attempt < 10:\n",
    "            try:\n",
    "                # generate url\n",
    "                file_ext = sample[\"file_ext\"]\n",
    "                md5 = sample[\"md5\"]\n",
    "                url = f'https://static1.e621.net/data/{md5[0:2]}/{md5[2:4]}/{md5}.{file_ext}'\n",
    "\n",
    "                user_agent_message = (\n",
    "                    f\"heya! this is lodestone from furry diffusion server, \"\n",
    "                    f\"i need to rebuild my dataset for training, \"\n",
    "                    f\"please let me know if this bot is pulling data to fast \"\n",
    "                    f\"PS: OOPS sorry! too fast\"\n",
    "                )\n",
    "\n",
    "                # download image as PIL object\n",
    "                image = stream_image(url, user_agent=user_agent_message, threshold_size = 0)\n",
    "\n",
    "                image = rescale_image(image, 1024)\n",
    "\n",
    "                save_webp_without_alpha(\n",
    "                    image, \n",
    "                    os.path.join(save_path, f\"{md5}.webp\"), \n",
    "                    quality=70\n",
    "                )\n",
    "                break\n",
    "            except:\n",
    "                print(f\"failed downloading {index} ... retrying {attempt}/10\")\n",
    "                attempt += 1\n",
    "        else:\n",
    "            \n",
    "            print(f\"download attempt exceeded skipping {index}\")\n",
    "            continue \n",
    "\n",
    "# download(dataset)"
   ]
  },
  {
   "cell_type": "code",
   "execution_count": null,
   "id": "8f69307b",
   "metadata": {},
   "outputs": [],
   "source": [
    "import os\n",
    "list_image = os.listdir(\"/home/user/project-fur/e6_dump/1024\")\n",
    "len(list_image)"
   ]
  },
  {
   "cell_type": "code",
   "execution_count": null,
   "id": "aab8ff1b",
   "metadata": {},
   "outputs": [],
   "source": [
    "list_image_pd = pd.DataFrame(list_image)\n",
    "list_image_pd = list_image_pd.iloc[:,0].str.replace(\".webp\",\"\")"
   ]
  },
  {
   "cell_type": "code",
   "execution_count": null,
   "id": "8e83d732",
   "metadata": {},
   "outputs": [],
   "source": [
    "list_image_pd.tolist()"
   ]
  },
  {
   "cell_type": "code",
   "execution_count": null,
   "id": "50bf6c2a",
   "metadata": {},
   "outputs": [],
   "source": [
    "subset_e6_dump_data = subset_e6_dump_data[~subset_e6_dump_data[\"md5\"].isin(list_image_pd.tolist())]"
   ]
  },
  {
   "cell_type": "code",
   "execution_count": null,
   "id": "20ba2dd8",
   "metadata": {},
   "outputs": [],
   "source": [
    "subset_e6_dump_data"
   ]
  },
  {
   "cell_type": "code",
   "execution_count": null,
   "id": "0438b3ad",
   "metadata": {},
   "outputs": [],
   "source": [
    "from threading import Thread\n",
    "\n",
    "def multithread_download(df:pd.DataFrame, save_path:str, number_of_workers:int = 10) -> None:\n",
    "\n",
    "    # function tp be executed as threads\n",
    "    split_df = split_dataframe(df, number_of_workers)\n",
    "\n",
    "    threads = []\n",
    "    for df in split_df:\n",
    "        thread_instance = Thread(target=download, args=[df, save_path])\n",
    "        threads.append(thread_instance)\n",
    "\n",
    "    for thread in threads:\n",
    "        thread.start()\n",
    "\n",
    "    for thread in threads:\n",
    "        thread.join()\n",
    "        \n"
   ]
  },
  {
   "cell_type": "code",
   "execution_count": null,
   "id": "ddb9fadb",
   "metadata": {},
   "outputs": [],
   "source": [
    "import multiprocessing\n",
    "\n",
    "number_of_workers = 10\n",
    "split_df = split_dataframe(subset_e6_dump_data, number_of_workers)\n",
    "save_path = \"/home/user/project-fur/e6_dump/1024\"\n",
    "\n",
    "args = [(df,) + (save_path,) + (10,) for df in split_df]\n",
    "\n",
    "with multiprocessing.Pool(processes=number_of_workers) as pool:\n",
    "    results = pool.starmap(multithread_download, args)\n",
    "    print(results)\n"
   ]
  },
  {
   "cell_type": "code",
   "execution_count": null,
   "id": "7e42d57a",
   "metadata": {},
   "outputs": [],
   "source": [
    "# constant variable\n",
    "save_path = \"/home/user/project-fur/e6_dump/1024\""
   ]
  },
  {
   "cell_type": "code",
   "execution_count": null,
   "id": "733078ab",
   "metadata": {},
   "outputs": [],
   "source": [
    "from PIL import Image\n",
    "import PIL\n",
    "def check_error(filename:str) -> list:\n",
    "    list_broken_image = []\n",
    "    try:\n",
    "        im = Image.open(filename)\n",
    "        im.verify() \n",
    "        im.close()\n",
    "        im = Image.open(filename) \n",
    "        im.transpose(PIL.Image.FLIP_LEFT_RIGHT)\n",
    "        im.close()\n",
    "    except Exception as e: \n",
    "        print(f\"image error {filename}: {e}\")\n",
    "        list_broken_image.append(filename)\n",
    "    return list_broken_image"
   ]
  },
  {
   "cell_type": "code",
   "execution_count": null,
   "id": "33712399",
   "metadata": {},
   "outputs": [],
   "source": [
    "import os\n",
    "list_image = os.listdir(\"/home/user/project-fur/e6_dump/1024\")\n",
    "list_image = [os.path.join(\"/home/user/project-fur/e6_dump/1024\", image) for image in list_image]"
   ]
  },
  {
   "cell_type": "code",
   "execution_count": null,
   "id": "3444922c",
   "metadata": {},
   "outputs": [],
   "source": [
    "import multiprocessing\n",
    "\n",
    "with multiprocessing.Pool(processes=80) as pool:\n",
    "    results = pool.map(check_error, list_image)\n",
    "    print(results)\n"
   ]
  },
  {
   "cell_type": "code",
   "execution_count": null,
   "id": "14117eac",
   "metadata": {},
   "outputs": [],
   "source": [
    "flat_list = []\n",
    "for sublist in results:\n",
    "    for element in sublist:\n",
    "        flat_list.append(element)"
   ]
  },
  {
   "cell_type": "code",
   "execution_count": null,
   "id": "047dd9a5",
   "metadata": {},
   "outputs": [],
   "source": [
    "broken_image = [text.split(\"/\")[-1] for text in flat_list]\n",
    "broken_image = [md5.split(\".\")[0] for md5 in broken_image]\n",
    "broken_image"
   ]
  },
  {
   "cell_type": "code",
   "execution_count": null,
   "id": "0dc5a92e",
   "metadata": {},
   "outputs": [],
   "source": [
    "remainder_data = subset_e6_dump_data[subset_e6_dump_data[\"md5\"].isin(broken_image)]\n",
    "download(remainder_data, save_path)"
   ]
  },
  {
   "cell_type": "markdown",
   "id": "3b678715",
   "metadata": {},
   "source": [
    "# perform comparison with old dataset"
   ]
  },
  {
   "cell_type": "code",
   "execution_count": null,
   "id": "808f4de3",
   "metadata": {},
   "outputs": [],
   "source": [
    "# read real db export and training data\n",
    "\n",
    "training_data = pd.read_csv(\"posts.csv\")\n",
    "e6_dump_data = pd.read_csv(\"posts-2023-04-08.csv\")\n",
    "\n",
    "# inner join\n",
    "subset_e6_dump_data = e6_dump_data[e6_dump_data[\"md5\"].isin(training_data[\"md5\"].tolist())]\n",
    "training_data = training_data[training_data[\"md5\"].isin(subset_e6_dump_data[\"md5\"].tolist())]"
   ]
  },
  {
   "cell_type": "code",
   "execution_count": null,
   "id": "590a5743",
   "metadata": {
    "scrolled": true
   },
   "outputs": [],
   "source": [
    "new_data = subset_e6_dump_data.sort_values(\"md5\").loc[:,[\"image_width\",\"image_height\"]]\n",
    "new_data = new_data[\"image_width\"].astype(str) + new_data[\"image_height\"].astype(str)\n",
    "new_data = new_data.reset_index(drop=True)\n",
    "old_data = training_data.sort_values(\"md5\").loc[:,[\"image_width\",\"image_height\"]]\n",
    "old_data = old_data[\"image_width\"].astype(str) + old_data[\"image_height\"].astype(str)\n",
    "old_data = old_data.reset_index(drop=True)"
   ]
  },
  {
   "cell_type": "code",
   "execution_count": null,
   "id": "c23eebce",
   "metadata": {},
   "outputs": [],
   "source": [
    "(new_data == old_data).value_counts()"
   ]
  },
  {
   "cell_type": "code",
   "execution_count": null,
   "id": "c65b51e2",
   "metadata": {},
   "outputs": [],
   "source": [
    "print(len(new_data))\n",
    "print(len(old_data))"
   ]
  }
 ],
 "metadata": {
  "kernelspec": {
   "display_name": "Python 3 (ipykernel)",
   "language": "python",
   "name": "python3"
  },
  "language_info": {
   "codemirror_mode": {
    "name": "ipython",
    "version": 3
   },
   "file_extension": ".py",
   "mimetype": "text/x-python",
   "name": "python",
   "nbconvert_exporter": "python",
   "pygments_lexer": "ipython3",
   "version": "3.8.10"
  }
 },
 "nbformat": 4,
 "nbformat_minor": 5
}
